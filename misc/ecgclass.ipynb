{
 "cells": [
  {
   "cell_type": "code",
   "execution_count": 73,
   "id": "0cb18111-a30d-4d6f-bd7f-caf689f2b961",
   "metadata": {},
   "outputs": [],
   "source": [
    "from sklearn.tree import DecisionTreeClassifier\n",
    "from sklearn.ensemble import GradientBoostingClassifier\n",
    "from sklearn.neural_network import MLPClassifier\n",
    "from sklearn.model_selection import train_test_split\n",
    "from sklearn.metrics import classification_report, confusion_matrix, accuracy_score, f1_score\n",
    "import pandas as pd\n",
    "import numpy as np\n",
    "import random\n",
    "import seaborn as sns\n",
    "import torch\n",
    "import torch.nn as nn\n",
    "import torch.nn.functional as F\n",
    "import torch.optim as optim\n",
    "from torch.utils.data import DataLoader, Dataset\n",
    "import matplotlib.pyplot as plt\n",
    "import matplotlib\n",
    "matplotlib.rcParams['pdf.fonttype'] = 42\n",
    "matplotlib.rcParams['ps.fonttype'] = 42"
   ]
  },
  {
   "cell_type": "code",
   "execution_count": 3,
   "id": "66752dcf-e848-48bd-bfd1-6e3394c27515",
   "metadata": {},
   "outputs": [],
   "source": [
    "np.random.seed(seed=0)\n",
    "random.seed(0)"
   ]
  },
  {
   "cell_type": "code",
   "execution_count": 4,
   "id": "8d84d33b-1d90-4c2b-8cc8-7240bf15706e",
   "metadata": {},
   "outputs": [],
   "source": [
    "abnormal = np.load('abnormal.npy', allow_pickle=True)\n",
    "normal = np.load('normal.npy', allow_pickle=True)\n",
    "sim_dataset = np.load('sim_dataset.npy', allow_pickle=True)\n",
    "#X_train = np.load(\"X_train.npy\", allow_pickle=True)\n",
    "# X_test = np.load(\"X_test.npy\", allow_pickle=True)\n",
    "# y_train = np.load(\"y_train.npy\", allow_pickle=True)\n",
    "# y_test = np.load(\"y_test.npy\", allow_pickle=True)\n",
    "# labels = np.load(\"unique_labels.npy\", allow_pickle=True)"
   ]
  },
  {
   "cell_type": "code",
   "execution_count": 5,
   "id": "f9d3ab08",
   "metadata": {},
   "outputs": [
    {
     "name": "stdout",
     "output_type": "stream",
     "text": [
      "(2664, 3600)\n",
      "(7402, 3600)\n",
      "(5100, 3600)\n"
     ]
    }
   ],
   "source": [
    "print(abnormal.shape)\n",
    "print(normal.shape)\n",
    "print(sim_dataset.shape)"
   ]
  },
  {
   "cell_type": "code",
   "execution_count": 6,
   "id": "2422a7f3",
   "metadata": {},
   "outputs": [
    {
     "data": {
      "text/plain": [
       "(2664, 1)"
      ]
     },
     "execution_count": 6,
     "metadata": {},
     "output_type": "execute_result"
    }
   ],
   "source": [
    "np.ones([abnormal.shape[0], 1]).shape"
   ]
  },
  {
   "cell_type": "code",
   "execution_count": 10,
   "id": "9dd902e2",
   "metadata": {
    "scrolled": true
   },
   "outputs": [
    {
     "name": "stdout",
     "output_type": "stream",
     "text": [
      "(32, 1, 3600)\n",
      "(400, 1, 3600)\n",
      "_______________________________\n",
      "(32, 1, 3600)\n",
      "(400, 1, 3600)\n",
      "_______________________________\n",
      "(32, 1, 3600)\n",
      "(400, 1, 3600)\n",
      "_______________________________\n",
      "(32, 1, 3600)\n",
      "(400, 1, 3600)\n",
      "_______________________________\n"
     ]
    }
   ],
   "source": [
    "### packages\n",
    "import os\n",
    "from copy import deepcopy\n",
    "import torch\n",
    "import numpy as np\n",
    "\n",
    "### sys relative to root dir\n",
    "import sys\n",
    "from os.path import dirname, realpath\n",
    "#sys.path.append(dirname(dirname(realpath(__file__))))\n",
    "\n",
    "### absolute imports wrt root\n",
    "from codes.factory import FactoryDefinition, Factory_SimGAN\n",
    "\n",
    "PROBLEM_TYPE = \"ecg\"\n",
    "if PROBLEM_TYPE == \"\":\n",
    "    from problems.problem_simgan import Problem\n",
    "elif PROBLEM_TYPE == \"ecg\":\n",
    "    from problems.problem_simgan_ecg import Problem\n",
    "elif PROBLEM_TYPE == \"transform\":\n",
    "    from problems.problem_simgan_transform import Problem\n",
    "else:\n",
    "    print(\"don't have that one yet\")\n",
    "    exit()\n",
    "\n",
    "\n",
    "\n",
    "def build_individual(individual_pkl):\n",
    "    '''\n",
    "    a lot of this is just going to mimic factory.Factory_SimGAN.build_individual_from_seed\n",
    "    but use the trained weights instead!\n",
    "    '''\n",
    "    problem = Problem()\n",
    "    indiv_def = problem.indiv_def\n",
    "    factory = Factory_SimGAN()\n",
    "\n",
    "\n",
    "    # try to grab id from name\n",
    "    try:\n",
    "        indiv_id = os.path.basename(individual_pkl).split(\"_\")[-1].split(\".\")[0]\n",
    "    except Exception as err:\n",
    "        print(\"Couldn't get id for some reason:\\n%s\" % err)\n",
    "        indiv_id = \"poopie_face\"\n",
    "\n",
    "    individual = factory.build_individual_from_seed(indiv_def,\n",
    "                                                    individual_pkl,\n",
    "                                                    problem.maximize_objectives,\n",
    "                                                    indiv_id=indiv_id)\n",
    "\n",
    "    refiner, discriminator = deepcopy(individual.output)\n",
    "    del individual\n",
    "\n",
    "    return refiner, discriminator\n",
    "\n",
    "\n",
    "refinerseed, _ = build_individual('gen_0009_indiv_2d311ddb156f0.pkl')\n",
    "refinerevo, _ = build_individual('gen_0000_indiv_seededIndiv0-1.pkl')"
   ]
  },
  {
   "cell_type": "code",
   "execution_count": 11,
   "id": "d28df44e",
   "metadata": {},
   "outputs": [],
   "source": [
    "class WrapperDataset(Dataset):\n",
    "    ''' A wrapper class for the torch.Dataset\n",
    "    '''\n",
    "    def __init__(self, data, target, transform=None):\n",
    "        self.data = torch.from_numpy(data).float().unsqueeze(1)\n",
    "        self.target = torch.from_numpy(target).float()\n",
    "        self.transform = transform\n",
    "        \n",
    "    def __getitem__(self, index):\n",
    "        x = self.data[index]\n",
    "        y = self.target[index]\n",
    "        \n",
    "        if self.transform:\n",
    "            x = self.transform(x)\n",
    "        \n",
    "        return x, y\n",
    "    \n",
    "    def __len__(self):\n",
    "        return len(self.data)\n"
   ]
  },
  {
   "cell_type": "code",
   "execution_count": 58,
   "id": "60b017e4",
   "metadata": {},
   "outputs": [],
   "source": [
    "sim_loader = DataLoader(sim_dataset, batch_size=1, shuffle=False)\n",
    "seed_ref = []\n",
    "for i, data in enumerate(sim_loader):\n",
    "    # get the inputs; data is a list of [inputs, labels]\n",
    "    outputs = refinerseed(data.unsqueeze(1).float())\n",
    "    seed_ref.append(outputs.detach().numpy().squeeze())\n",
    "seed_ref = np.array(seed_ref)\n",
    "\n",
    "\n",
    "sim_loader = DataLoader(sim_dataset, batch_size=1, shuffle=False)\n",
    "evo_ref = []\n",
    "for i, data in enumerate(sim_loader):\n",
    "    # get the inputs; data is a list of [inputs, labels]\n",
    "    outputs = refinerevo(data.unsqueeze(1).float())\n",
    "    evo_ref.append(outputs.detach().numpy().squeeze())\n",
    "evo_ref = np.array(evo_ref)\n",
    "\n"
   ]
  },
  {
   "cell_type": "code",
   "execution_count": 59,
   "id": "3b0e0ad7",
   "metadata": {},
   "outputs": [
    {
     "name": "stdout",
     "output_type": "stream",
     "text": [
      "(10066, 3600)\n",
      "(10066, 1)\n",
      "(15166, 3600)\n",
      "(15166, 1)\n",
      "(15166, 3600)\n",
      "(15166, 1)\n",
      "(15166, 3600)\n",
      "(15166, 1)\n"
     ]
    }
   ],
   "source": [
    "#make normal dataset\n",
    "unsim_x = np.concatenate([abnormal, normal])\n",
    "unsim_y = np.concatenate([np.ones([abnormal.shape[0], 1]), np.zeros([normal.shape[0], 1])])\n",
    "print(unsim_x.shape)\n",
    "print(unsim_y.shape)\n",
    "\n",
    "\n",
    "\n",
    "#make simulated dataset\n",
    "sim_x = np.concatenate([unsim_x, sim_dataset])\n",
    "sim_y = np.concatenate([unsim_y, np.zeros([sim_dataset.shape[0], 1])])\n",
    "print(sim_x.shape)\n",
    "print(sim_y.shape)\n",
    "\n",
    "\n",
    "#make seedref dataset\n",
    "seedref_x = np.concatenate([unsim_x, seed_ref])\n",
    "seedref_y = np.concatenate([unsim_y, np.ones([sim_dataset.shape[0], 1])])\n",
    "print(seedref_x.shape)\n",
    "print(seedref_y.shape)\n",
    "\n",
    "#make evoref dataset\n",
    "evoref_x = np.concatenate([unsim_x, evo_ref])\n",
    "evoref_y = np.concatenate([unsim_y, np.ones([sim_dataset.shape[0], 1])])\n",
    "print(evoref_x.shape)\n",
    "print(evoref_y.shape)\n",
    "\n",
    "\n",
    "unsim_x_train, unsim_x_test, unsim_y_train, unsim_y_test = train_test_split(unsim_x, unsim_y, test_size=0.25, random_state=42)\n",
    "sim_x_train, sim_x_test, sim_y_train, sim_y_test = train_test_split(sim_x, sim_y, test_size=0.25, random_state=42)\n",
    "seedref_x_train, seedref_x_test, seedref_y_train, seedref_y_test = train_test_split(seedref_x, seedref_y, test_size=0.25, random_state=42)\n",
    "evoref_x_train, evoref_x_test, evoref_y_train, evoref_y_test = train_test_split(evoref_x, evoref_y, test_size=0.25, random_state=42)\n",
    "\n"
   ]
  },
  {
   "cell_type": "code",
   "execution_count": 82,
   "id": "ea4aba6b-cc5d-4254-9c23-19b2a08393b9",
   "metadata": {},
   "outputs": [],
   "source": [
    "def train_model(model, trainx, trainy):\n",
    "    model.fit(trainx, trainy)\n",
    "\n",
    "def test_model(model, testx, testy, lab):\n",
    "    y_pred = model.predict(testx)\n",
    "    print(classification_report(testy, y_pred))\n",
    "    print(f1_score(testy, y_pred))\n",
    "    cf_matrix = confusion_matrix(testy, y_pred, normalize='all')\n",
    "    plt.title(f\"Confusion Matrix {lab}\") # title with fontsize 20\n",
    "    plt.xlabel('Predicted') # x-axis label with fontsize 15\n",
    "    plt.ylabel('True') # y-axis label with fontsize 15\n",
    "    sns.heatmap(cf_matrix, linewidths=1, annot=True, fmt='g', yticklabels=['Normal', 'Abnormal'], xticklabels=['Normal', 'Abnormal'])"
   ]
  },
  {
   "cell_type": "code",
   "execution_count": 83,
   "id": "78e44769",
   "metadata": {
    "scrolled": true
   },
   "outputs": [
    {
     "name": "stdout",
     "output_type": "stream",
     "text": [
      "              precision    recall  f1-score   support\n",
      "\n",
      "         0.0       0.79      0.79      0.79      1835\n",
      "         1.0       0.43      0.43      0.43       682\n",
      "\n",
      "    accuracy                           0.69      2517\n",
      "   macro avg       0.61      0.61      0.61      2517\n",
      "weighted avg       0.69      0.69      0.69      2517\n",
      "\n",
      "0.4343360234776229\n"
     ]
    },
    {
     "data": {
      "image/png": "[encoded data removed]",
      "text/plain": [
       "<Figure size 432x288 with 2 Axes>"
      ]
     },
     "metadata": {
      "needs_background": "light"
     },
     "output_type": "display_data"
    }
   ],
   "source": [
    "clf_unsim = DecisionTreeClassifier(random_state=42)\n",
    "train_model(clf_unsim, unsim_x_train, unsim_y_train)\n",
    "test_model(clf_unsim, unsim_x_test, unsim_y_test, 'No Simulated Data')"
   ]
  },
  {
   "cell_type": "code",
   "execution_count": 84,
   "id": "0a336286",
   "metadata": {
    "scrolled": true
   },
   "outputs": [
    {
     "name": "stdout",
     "output_type": "stream",
     "text": [
      "              precision    recall  f1-score   support\n",
      "\n",
      "         0.0       0.89      0.88      0.88      3115\n",
      "         1.0       0.46      0.49      0.48       677\n",
      "\n",
      "    accuracy                           0.81      3792\n",
      "   macro avg       0.68      0.68      0.68      3792\n",
      "weighted avg       0.81      0.81      0.81      3792\n",
      "\n",
      "0.47748391708363114\n"
     ]
    },
    {
     "data": {
      "image/png": "[encoded data removed]",
      "text/plain": [
       "<Figure size 432x288 with 2 Axes>"
      ]
     },
     "metadata": {
      "needs_background": "light"
     },
     "output_type": "display_data"
    }
   ],
   "source": [
    "clf_sim = DecisionTreeClassifier(random_state=42)\n",
    "train_model(clf_sim, sim_x_train, sim_y_train)\n",
    "test_model(clf_sim, sim_x_test, sim_y_test, 'Simulated But Not Refined Data')"
   ]
  },
  {
   "cell_type": "code",
   "execution_count": 85,
   "id": "932ec176",
   "metadata": {},
   "outputs": [
    {
     "name": "stdout",
     "output_type": "stream",
     "text": [
      "              precision    recall  f1-score   support\n",
      "\n",
      "         0.0       0.80      0.80      0.80      1867\n",
      "         1.0       0.81      0.80      0.80      1925\n",
      "\n",
      "    accuracy                           0.80      3792\n",
      "   macro avg       0.80      0.80      0.80      3792\n",
      "weighted avg       0.80      0.80      0.80      3792\n",
      "\n",
      "0.8043761396196927\n"
     ]
    },
    {
     "data": {
      "image/png": "[encoded data removed]",
      "text/plain": [
       "<Figure size 432x288 with 2 Axes>"
      ]
     },
     "metadata": {
      "needs_background": "light"
     },
     "output_type": "display_data"
    }
   ],
   "source": [
    "clf_seed = DecisionTreeClassifier(random_state=42)\n",
    "train_model(clf_seed, seedref_x_train, seedref_y_train)\n",
    "test_model(clf_seed, seedref_x_test, seedref_y_test, 'Data Refined with Seed Model')"
   ]
  },
  {
   "cell_type": "code",
   "execution_count": 86,
   "id": "373383ba",
   "metadata": {},
   "outputs": [
    {
     "name": "stdout",
     "output_type": "stream",
     "text": [
      "              precision    recall  f1-score   support\n",
      "\n",
      "         0.0       0.82      0.80      0.81      1867\n",
      "         1.0       0.81      0.82      0.82      1925\n",
      "\n",
      "    accuracy                           0.81      3792\n",
      "   macro avg       0.81      0.81      0.81      3792\n",
      "weighted avg       0.81      0.81      0.81      3792\n",
      "\n",
      "0.8158232725404572\n"
     ]
    },
    {
     "data": {
      "image/png": "[encoded data removed]",
      "text/plain": [
       "<Figure size 432x288 with 2 Axes>"
      ]
     },
     "metadata": {
      "needs_background": "light"
     },
     "output_type": "display_data"
    }
   ],
   "source": [
    "clf_evo = DecisionTreeClassifier(random_state=42)\n",
    "train_model(clf_evo, evoref_x_train, evoref_y_train)\n",
    "test_model(clf_evo, evoref_x_test, evoref_y_test, 'Data Refined with Evolved Model')"
   ]
  },
  {
   "cell_type": "code",
   "execution_count": 111,
   "id": "82d59601",
   "metadata": {
    "scrolled": true
   },
   "outputs": [
    {
     "name": "stderr",
     "output_type": "stream",
     "text": [
      "No handles with labels found to put in legend.\n",
      "No handles with labels found to put in legend.\n"
     ]
    },
    {
     "name": "stdout",
     "output_type": "stream",
     "text": [
      "[1.0818942  1.0607066  1.005369   ... 0.13197848 0.12236015 0.11307615]\n"
     ]
    },
    {
     "name": "stderr",
     "output_type": "stream",
     "text": [
      "/home/anishthite/miniconda3/envs/simgan-cgp/lib/python3.7/site-packages/ipykernel_launcher.py:45: DeprecationWarning: The binary mode of fromstring is deprecated, as it behaves surprisingly on unicode inputs. Use frombuffer instead\n"
     ]
    }
   ],
   "source": [
    "from PIL import Image\n",
    "def generate_ecg_img(syn_batch, ref_batch, real_batch, png_path, ref_preds=None, real_preds=None):\n",
    "    '''\n",
    "    Generates matplotlib plots of 3 syn, ref, and real examples from the step.\n",
    "    '''\n",
    "    # # syn_batch_type: Tensor, ref_batch_type: Tensor, real_batch_type: Tensor\n",
    "    #syn_batch = syn_batch[:5]\n",
    "    #ref_batch = ref_batch[:5]\n",
    "    #real_batch = real_batch[:5]\n",
    "\n",
    "    fig = plt.figure(figsize=(16, 9))\n",
    "\n",
    "    ax = fig.add_subplot(1, 3, 1)\n",
    "    for i in range(1):\n",
    "        print(syn_batch[i].numpy())\n",
    "        ax.plot(syn_batch[i].numpy())\n",
    "    ax.set_ylim([-1, 1])\n",
    "    ax.set_title(\"Random Simulated Signal\")\n",
    "    ax = fig.add_subplot(1, 3, 2)\n",
    "    for i in range(1):\n",
    "        if ref_preds is not None:\n",
    "            ref_probs = torch.sigmoid(ref_preds[i]).item()\n",
    "            label = str([1 - ref_probs, ref_probs])\n",
    "        else:\n",
    "            label=None\n",
    "        ax.plot(ref_batch[i].numpy(), label=label)\n",
    "    ax.set_ylim([-1, 1])\n",
    "    ax.set_title(\"Refined Signal\")\n",
    "    plt.legend()\n",
    "    ax = fig.add_subplot(1, 3, 3)\n",
    "    for i in range(1):\n",
    "        if real_preds is not None:\n",
    "            real_probs = torch.sigmoid(real_preds[i]).item()\n",
    "            label = str([1 - real_probs, real_probs])\n",
    "        else:\n",
    "            label=None\n",
    "        ax.plot(real_batch[i].numpy(), label=label, color='orange')\n",
    "    plt.legend()\n",
    "    ax.set_ylim([-1, 1])\n",
    "    ax.set_title(\"Random Real Signal\")\n",
    "    plt.tight_layout()\n",
    "\n",
    "    fig.canvas.draw()\n",
    "    width, height = fig.get_size_inches() * fig.get_dpi()\n",
    "    img = np.fromstring(fig.canvas.tostring_rgb(), dtype='uint8').reshape(int(height), int(width), 3)\n",
    "\n",
    "    img = Image.fromarray(img)\n",
    "\n",
    "    img.save(png_path, 'eps')\n",
    "\n",
    "    plt.close()\n",
    "generate_ecg_img(torch.Tensor(sim_dataset[0:2]), torch.Tensor(seed_ref[0:2]), torch.Tensor(abnormal[0:2]), 'seed')"
   ]
  },
  {
   "cell_type": "code",
   "execution_count": 103,
   "id": "ca2388a0",
   "metadata": {},
   "outputs": [
    {
     "data": {
      "text/plain": [
       "tensor([[-0.2000, -0.2000, -0.2000,  ..., -0.3700, -0.3600, -0.3600]])"
      ]
     },
     "execution_count": 103,
     "metadata": {},
     "output_type": "execute_result"
    }
   ],
   "source": [
    "torch.Tensor(abnormal[0:1])"
   ]
  },
  {
   "cell_type": "code",
   "execution_count": 94,
   "id": "c5e128f6",
   "metadata": {},
   "outputs": [
    {
     "name": "stdout",
     "output_type": "stream",
     "text": [
      "Collecting image\n",
      "  Downloading image-1.5.33.tar.gz (15 kB)\n",
      "  Preparing metadata (setup.py) ... \u001b[?25ldone\n",
      "\u001b[?25hRequirement already satisfied: pillow in /home/anishthite/miniconda3/envs/simgan-cgp/lib/python3.7/site-packages (from image) (8.4.0)\n",
      "Collecting django\n",
      "  Downloading Django-3.2.13-py3-none-any.whl (7.9 MB)\n",
      "     |████████████████████████████████| 7.9 MB 6.0 MB/s            \n",
      "\u001b[?25hRequirement already satisfied: six in /home/anishthite/miniconda3/envs/simgan-cgp/lib/python3.7/site-packages (from image) (1.16.0)\n",
      "Requirement already satisfied: pytz in /home/anishthite/miniconda3/envs/simgan-cgp/lib/python3.7/site-packages (from django->image) (2021.3)\n",
      "Collecting sqlparse>=0.2.2\n",
      "  Using cached sqlparse-0.4.2-py3-none-any.whl (42 kB)\n",
      "Collecting asgiref<4,>=3.3.2\n",
      "  Downloading asgiref-3.5.0-py3-none-any.whl (22 kB)\n",
      "Requirement already satisfied: typing-extensions in /home/anishthite/miniconda3/envs/simgan-cgp/lib/python3.7/site-packages (from asgiref<4,>=3.3.2->django->image) (3.10.0.2)\n",
      "Building wheels for collected packages: image\n",
      "  Building wheel for image (setup.py) ... \u001b[?25ldone\n",
      "\u001b[?25h  Created wheel for image: filename=image-1.5.33-py2.py3-none-any.whl size=19494 sha256=bcf20ef8ecf414352124db7588613f1f30e07ffb19079b95718950a56895cae7\n",
      "  Stored in directory: /home/anishthite/.cache/pip/wheels/56/88/e6/897194cfe8c08a8b9afd881d3bf53d102e13fa39607d721383\n",
      "Successfully built image\n",
      "Installing collected packages: sqlparse, asgiref, django, image\n",
      "Successfully installed asgiref-3.5.0 django-3.2.13 image-1.5.33 sqlparse-0.4.2\n"
     ]
    }
   ],
   "source": [
    "!pip install image"
   ]
  }
 ],
 "metadata": {
  "kernelspec": {
   "display_name": "Python 3 (ipykernel)",
   "language": "python",
   "name": "python3"
  },
  "language_info": {
   "codemirror_mode": {
    "name": "ipython",
    "version": 3
   },
   "file_extension": ".py",
   "mimetype": "text/x-python",
   "name": "python",
   "nbconvert_exporter": "python",
   "pygments_lexer": "ipython3",
   "version": "3.7.11"
  }
 },
 "nbformat": 4,
 "nbformat_minor": 5
}
